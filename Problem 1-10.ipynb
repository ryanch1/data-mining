{
 "cells": [
  {
   "cell_type": "markdown",
   "metadata": {},
   "source": [
    "## Problem 1"
   ]
  },
  {
   "cell_type": "code",
   "execution_count": 1,
   "metadata": {},
   "outputs": [
    {
     "name": "stderr",
     "output_type": "stream",
     "text": [
      "C:\\Users\\Ryan\\Anaconda3\\lib\\site-packages\\sklearn\\externals\\joblib\\__init__.py:15: FutureWarning: sklearn.externals.joblib is deprecated in 0.21 and will be removed in 0.23. Please import this functionality directly from joblib, which can be installed with: pip install joblib. If this warning is raised when loading pickled models, you may need to re-serialize those models with scikit-learn 0.21+.\n",
      "  warnings.warn(msg, category=FutureWarning)\n"
     ]
    }
   ],
   "source": [
    "#Problem Setup/Definition:\n",
    "import numpy as np\n",
    "np.random.seed(42)\n",
    "import random\n",
    "random.seed(42)\n",
    "import nltk\n",
    "from nltk.stem import PorterStemmer\n",
    "from nltk.stem import WordNetLemmatizer \n",
    "from nltk import pos_tag\n",
    "from sklearn.feature_extraction.text import CountVectorizer\n",
    "from nltk.corpus import stopwords\n",
    "from sklearn.datasets import fetch_20newsgroups\n",
    "from sklearn.feature_extraction.text import TfidfTransformer\n",
    "from string import punctuation\n",
    "from string import digits\n",
    "from nltk.corpus import wordnet\n",
    "from sklearn.feature_extraction import text\n",
    "from sklearn.linear_model import LogisticRegression\n",
    "from sklearn import metrics\n",
    "from sklearn.metrics import auc\n",
    "import matplotlib.pyplot as plt\n",
    "from sklearn.pipeline import Pipeline\n",
    "from sklearn.decomposition import NMF\n",
    "from sklearn.naive_bayes import MultinomialNB\n",
    "from sklearn import metrics\n",
    "from sklearn.metrics import auc\n",
    "import matplotlib.pyplot as plt\n",
    "from sklearn.metrics import confusion_matrix\n",
    "from sklearn.metrics import accuracy_score\n",
    "from sklearn.metrics import precision_score\n",
    "from sklearn.metrics import recall_score\n",
    "from sklearn.metrics import roc_curve\n",
    "from sklearn.metrics import auc\n",
    "from sklearn.metrics.cluster import contingency_matrix\n",
    "from sklearn.svm import LinearSVC\n",
    "import math \n",
    "from sklearn.model_selection import cross_val_score\n",
    "from sklearn.model_selection import ShuffleSplit\n",
    "from sklearn.svm import SVC\n",
    "from sklearn.svm import LinearSVC\n",
    "from sklearn.model_selection import GridSearchCV\n",
    "from tempfile import mkdtemp\n",
    "from shutil import rmtree\n",
    "from sklearn.externals.joblib import Memory\n",
    "from sklearn.naive_bayes import GaussianNB\n",
    "from sklearn.decomposition import TruncatedSVD\n",
    "from nltk import SnowballStemmer\n",
    "import re\n",
    "import pandas as pd\n",
    "from sklearn.svm import SVC\n",
    "from sklearn.multiclass import OneVsRestClassifier, OneVsOneClassifier\n",
    "from sklearn.cluster import KMeans\n",
    "from sklearn import preprocessing\n",
    "from sklearn.preprocessing import StandardScaler\n",
    "\n",
    "%matplotlib inline"
   ]
  },
  {
   "cell_type": "code",
   "execution_count": 2,
   "metadata": {},
   "outputs": [],
   "source": [
    "##################################\n",
    "#### Import Dataset Train/Test ###\n",
    "##################################\n",
    "# Only take a specific selection (8) of the 20 available categories\n",
    "categories = [\n",
    "    'comp.graphics', 'comp.os.ms-windows.misc',\n",
    "    'comp.sys.ibm.pc.hardware', 'comp.sys.mac.hardware',\n",
    "    'rec.autos', 'rec.motorcycles',\n",
    "    'rec.sport.baseball', 'rec.sport.hockey'\n",
    "]\n",
    "\n",
    "# Fetch all 8 categories into entire dataset (No split into test/train)\n",
    "#dataset = fetch_20newsgroups(categories = categories)\n",
    "dataset = fetch_20newsgroups(subset = 'all', categories = categories, shuffle = True, random_state = 0)\n"
   ]
  },
  {
   "cell_type": "code",
   "execution_count": 3,
   "metadata": {},
   "outputs": [
    {
     "name": "stdout",
     "output_type": "stream",
     "text": [
      "From: tedward@cs.cornell.edu (Edward [Ted] Fischer)\n",
      "Subject: Re: Bases loaded walk gives Reds win in 12\n",
      "Organization: Cornell Univ. CS Dept, Ithaca NY 14853\n",
      "Lines: 87\n",
      "\n",
      "In article <mssC5y5u0.4Dn@netcom.com> mss@netcom.com (Mark Singer) writes:\n",
      ">\n",
      ">Actually, I think the large-scale sample size is part of the problem.\n",
      ">It seems to me that if we were to plot all the players in baseball\n",
      ">in regard to BA vs. Clutch BA deviation we would get some kind of\n",
      ">bell curve.  (The X-axis being the +/- deviation in clutch hitting\n",
      ">vs. non-clutch;  the Y-axis being the number of players.)  Certainly\n",
      ">there would be *some* players on the extreme ends of the bell.\n",
      "\n",
      "Right.  Most definitely.\n",
      "\n",
      ">My *supposition* is that if we were to find the SAME players\n",
      ">consistently (year after year) at one end of the bell or the other,\n",
      ">then we might be able to make some reasonable conclusions about\n",
      ">*those* players (as opposed to all baseball players).\n",
      "\n",
      "This may be the root of the confusion...\n",
      "\n",
      "Please consider the following hypothetical with an open mind.  Note\n",
      "that I am *not* (yet) saying that it has anything to do with the\n",
      "question at hand.\n",
      "\n",
      "Suppose we have a simplified Lotto game.  You pick a number from 1-10\n",
      "and win if that number is drawn.  Suppose we have a large population\n",
      "of people who play this game every week.\n",
      "\n",
      "In the first year of the game, approximately 1/4 of the population\n",
      "will win 7 or more times.\n",
      "\n",
      "In the second year of the game, 1/4 of those 7-time winners will again\n",
      "be 7-time winners.\n",
      "\n",
      "In the third year of the game, 1/4 of those who won 7 or more times in\n",
      "each of the first two years will win 7 again.\n",
      "\n",
      "Suppose I started with 1024 people in my population.  After three\n",
      "years, I have 32 people who have consistently, in each of the last\n",
      "three years, won 140% or more the number of times expected.\n",
      "\n",
      "Do we expect them to be big winners in the fourth year of the game?\n",
      "No.  Because we know there is no skill involved.  Nothing about these\n",
      "\"consistent winners\" can influence their chances of winning.  But\n",
      "suppose we *don't* know whether or not there is a chance that skill\n",
      "might be involved.  Perhaps some of the people in our population are\n",
      "psychic, or something.  How would we test this hypothesis?\n",
      "\n",
      "We can look for correlations in the population.  Now most of the\n",
      "population will show zero correlation.  But our psychics should show a\n",
      "high positive correlation (even if they aren't very good psychics,\n",
      "they should still manage to win 7 or more times most years).  Net\n",
      "result?  A small positive correlation over the entire population.\n",
      "\n",
      ">This probably brings us to the heart of the disagreement I am having\n",
      ">with others on this topic.  Must any conclusion based on statistical\n",
      ">history be able to be applied broadly throughout a data base before\n",
      ">it has any validity?  Is it impossible (or irrational) to apply\n",
      ">statistical analysis to selected components of the data base?\n",
      "\n",
      "Well, zero correlation is zero correlation.  You mention that Sabo has\n",
      "hit poorly in the clutch over the last 3(?) years.  But if we look at\n",
      "the past, we find that clutch patterns are just as likely to reverse\n",
      "as they are to remain consistent.  The length of the streak doesn't\n",
      "seem to make a difference to the probability that the player will be\n",
      "clutch or choke the next year.  Is there any reason to expect *this*\n",
      "streak to be different from past streaks?\n",
      "\n",
      "Now if it were true that \"75% of all three-year streaks remained true\n",
      "to form\", then we might have something useful.  But then we wouldn't\n",
      "have zero correlation.  Instead we have \"50% of all three-year streaks\n",
      "remain true to form, and 50% of all three-year streaks reverse\".  You\n",
      "look at those numbers and say \"three year choke streak implies more\n",
      "likely to choke this year\".  But it would be equally valid to look at\n",
      "those numbers and say \"three year choke streak implies more likely to\n",
      "be clutch this year\", since the probabilities are split 50-50 each\n",
      "way.\n",
      "\n",
      ">I completely accept that reasoning.  Again, what if we were to find\n",
      ">the same individuals at each end of the spectrum on a consistent\n",
      ">basis? \n",
      "\n",
      "Then we would have something useful.  And we would also have a\n",
      "positive correlation.  But for every individual that exhibits such a\n",
      "pattern and holds true, there is another who exhibits such a pattern\n",
      "and then reverses.\n",
      "\n",
      "Cheers,\n",
      "-Valentine\n",
      "\n",
      "\n",
      "\n",
      "----------------------------------------\n",
      "\n",
      "\n",
      "Category of First Article (Integer Value): 6\n",
      "Category of First Article (String): rec.sport.baseball\n",
      "Class of First Article (0=comp. 1=rec.): 1\n",
      "\n",
      "\n",
      "----------------------------------------\n",
      "\n",
      "\n"
     ]
    }
   ],
   "source": [
    "###########################################\n",
    "#### Define Classes data for Comparison ###\n",
    "###########################################\n",
    "# Categorize the 8 news categories into two (binary) Classes \n",
    "# 0 = computer technology\n",
    "# 1 = recreational activity\n",
    "data_true_class = [] \n",
    "\n",
    "# Categories are mapped 0-7, (0-3) = Comp, (4-7) = Recreation\n",
    "for category in dataset.target:\n",
    "    if category < 4:\n",
    "        data_true_class.append(0)\n",
    "    else:\n",
    "        data_true_class.append(1)\n",
    "\n",
    "#################\n",
    "## Sanity Check #\n",
    "#################\n",
    "\n",
    "# Print out first article [0] in dataset: Its a baseball article\n",
    "print(dataset.data[0])\n",
    "print(\"\\n\\n\" + '-'*40 + \"\\n\\n\")\n",
    "# Print the assigned (true) category of first article [0]: = 6\n",
    "print(\"Category of First Article (Integer Value): \" + str(dataset.target[0]))\n",
    "# Print out Mapping of category to integer value\n",
    "print(\"Category of First Article (String): \" + str(dataset.target_names[6]))\n",
    "# Print out Class (1 or 0) of the first article [0] = 1 = 'recreation'\n",
    "print(\"Class of First Article (0=comp. 1=rec.): \" + str(data_true_class[0]))\n",
    "print(\"\\n\\n\" + '-'*40 + \"\\n\\n\")\n"
   ]
  },
  {
   "cell_type": "code",
   "execution_count": 4,
   "metadata": {},
   "outputs": [
    {
     "name": "stdout",
     "output_type": "stream",
     "text": [
      "Shape of TF-IDF Matix: (7882, 27768)\n"
     ]
    }
   ],
   "source": [
    "###################\n",
    "## TF_IDF MATRIX ##\n",
    "###################\n",
    "# Create CountVectorizer()\n",
    "p1_count_vectorizer = CountVectorizer(min_df=3, stop_words='english')\n",
    "p1_doc_term_matrix = p1_count_vectorizer.fit_transform(dataset.data)\n",
    "\n",
    "# Convert doc-term to TFIDF\n",
    "tfidf_transformer = TfidfTransformer()\n",
    "p1_tfidf = tfidf_transformer.fit_transform(p1_doc_term_matrix)\n",
    "\n",
    "# Report Shape/Stats of TF-IDF Matrix\n",
    "print(\"Shape of TF-IDF Matix: \" + str(p1_tfidf.shape))"
   ]
  },
  {
   "cell_type": "markdown",
   "metadata": {},
   "source": [
    "## Problem 2"
   ]
  },
  {
   "cell_type": "code",
   "execution_count": 5,
   "metadata": {},
   "outputs": [],
   "source": [
    "#######################\n",
    "## K-Mean Clustering ##\n",
    "#######################\n",
    "# Two Classes, 30 centroid placements, 1000 iterations\n",
    "p2_kmeans_prediction = KMeans(n_clusters=2, n_init=30, max_iter=1000, random_state=0).fit_predict(p1_tfidf)"
   ]
  },
  {
   "cell_type": "code",
   "execution_count": 6,
   "metadata": {},
   "outputs": [
    {
     "name": "stdout",
     "output_type": "stream",
     "text": [
      "\n",
      " Contingency Matrix: \n",
      "[[   3 3900]\n",
      " [1699 2280]]\n"
     ]
    }
   ],
   "source": [
    "# Print Contingency Matrix\n",
    "p2_contingency_matrix = contingency_matrix(data_true_class, p2_kmeans_prediction)\n",
    "print(\"\\n Contingency Matrix: \\n\" + str(p2_contingency_matrix))"
   ]
  },
  {
   "cell_type": "markdown",
   "metadata": {},
   "source": [
    "## Problem 3"
   ]
  },
  {
   "cell_type": "code",
   "execution_count": 7,
   "metadata": {},
   "outputs": [
    {
     "name": "stdout",
     "output_type": "stream",
     "text": [
      "\n",
      " Homogeneity: \n",
      "0.25117630991937606\n",
      "\n",
      " Completness: \n",
      "0.3336890225371529\n",
      "\n",
      " V-Measure: \n",
      "0.2866122257219451\n",
      "\n",
      " Adjusted Rand Score: \n",
      "0.1768976131064293\n",
      "\n",
      " Adjusted Mutual Score: \n",
      "0.28653769084169367\n"
     ]
    }
   ],
   "source": [
    "# Plot Statistics\n",
    "p2_homogeneity = metrics.homogeneity_score(data_true_class, p2_kmeans_prediction)\n",
    "p2_completeness = metrics.completeness_score(data_true_class, p2_kmeans_prediction)\n",
    "p2_v_measure = metrics.v_measure_score(data_true_class, p2_kmeans_prediction)\n",
    "p2_adjusted_rand_score = metrics.adjusted_rand_score(data_true_class, p2_kmeans_prediction)\n",
    "p2_adjusted_mutual_info_score = metrics.adjusted_mutual_info_score(data_true_class, p2_kmeans_prediction)\n",
    "\n",
    "print(\"\\n Homogeneity: \\n\" + str(p2_homogeneity))\n",
    "print(\"\\n Completness: \\n\" + str(p2_completeness))\n",
    "print(\"\\n V-Measure: \\n\" + str(p2_v_measure))\n",
    "print(\"\\n Adjusted Rand Score: \\n\" + str(p2_adjusted_rand_score))\n",
    "print(\"\\n Adjusted Mutual Score: \\n\" + str(p2_adjusted_mutual_info_score))"
   ]
  },
  {
   "cell_type": "markdown",
   "metadata": {},
   "source": [
    "## Problem 4"
   ]
  },
  {
   "cell_type": "code",
   "execution_count": 8,
   "metadata": {},
   "outputs": [],
   "source": [
    "##############################\n",
    "## Dimensionality Reduction ##\n",
    "##############################\n",
    "# Truncated SVD() Variance Comparison; keep 1000 most variant components\n",
    "p4_truncated_SVD = TruncatedSVD(n_components=1000,random_state=0).fit(p1_tfidf)"
   ]
  },
  {
   "cell_type": "code",
   "execution_count": 9,
   "metadata": {},
   "outputs": [
    {
     "name": "stdout",
     "output_type": "stream",
     "text": [
      "TruncatedSVD(from 10k -> 1k) % Variance reatined in the data: \n",
      "0.5600536645171179\n",
      "Plot of of Variance Retained n_components 1 - > 1000: \n",
      "\n",
      "Running total of Variance: \n",
      "[0.006365   0.01000796 0.01356696 0.01677614 0.01932803 0.0218225\n",
      " 0.02423317 0.02654565 0.02872857]\n",
      "\n",
      "\n",
      "----------------------------------------\n",
      "\n",
      "\n"
     ]
    },
    {
     "data": {
      "text/plain": [
       "[<matplotlib.lines.Line2D at 0x244eecd13c8>]"
      ]
     },
     "execution_count": 9,
     "metadata": {},
     "output_type": "execute_result"
    },
    {
     "data": {
      "image/png": "[encoded data removed]",
      "text/plain": [
       "<Figure size 432x288 with 1 Axes>"
      ]
     },
     "metadata": {
      "needs_background": "light"
     },
     "output_type": "display_data"
    }
   ],
   "source": [
    "# View retained Variance of each of the new 1000 'features'\n",
    "# 'explained_variance_ratio' = what percentage each of the 1000 Truncated feautres contributes to the variance\n",
    "# IF n_components = original # of feaures, explained_variance_ratio.sum() = 1.0\n",
    "print(\"TruncatedSVD(from 10k -> 1k) % Variance reatined in the data: \\n\" + str(p4_truncated_SVD.explained_variance_ratio_.sum()))\n",
    "print(\"Plot of of Variance Retained n_components 1 - > 1000: \\n\")\n",
    "# Transform 1x1000 array of individual percentages into cumulative percentages\n",
    "p4_variance_running_sum = p4_truncated_SVD.explained_variance_ratio_.cumsum()\n",
    "print(\"Running total of Variance: \\n\" + str(p4_variance_running_sum[1:10]))\n",
    "print(\"\\n\\n\" + '-'*40 + \"\\n\\n\")\n",
    "\n",
    "plt.ylabel(\"% Variance Retained\")\n",
    "plt.xlabel(\"Number of components (Orig ~20k)\")\n",
    "plt.plot(range(1,1001),p4_variance_running_sum) "
   ]
  },
  {
   "cell_type": "markdown",
   "metadata": {},
   "source": [
    "## Problem 5"
   ]
  },
  {
   "cell_type": "code",
   "execution_count": 14,
   "metadata": {},
   "outputs": [],
   "source": [
    "######################\n",
    "## Compare SVD/NFM  ##\n",
    "######################\n",
    "# Evalute Different Values of r/n_components\n",
    "p5_r_values = [ 1, 2, 3, 5, 10, 20, 50, 100, 300 ]\n",
    "\n",
    "# Plot Statistics Function\n",
    "def print_5_measure_stats(true_class, prediction):\n",
    "    homogeneity = metrics.homogeneity_score(true_class, prediction)\n",
    "    completeness = metrics.completeness_score(true_class, prediction)\n",
    "    v_measure = metrics.v_measure_score(true_class, prediction)\n",
    "    adjusted_rand_score = metrics.adjusted_rand_score(true_class, prediction)\n",
    "    adjusted_mutual_info_score = metrics.adjusted_mutual_info_score(true_class, prediction)\n",
    "\n",
    "    print(\"\\n Homogeneity: \\n\" + str(homogeneity))\n",
    "    print(\"\\n Completness: \\n\" + str(completeness))\n",
    "    print(\"\\n V-Measure: \\n\" + str(v_measure))\n",
    "    print(\"\\n Adjusted Rand Score: \\n\" + str(adjusted_rand_score))\n",
    "    print(\"\\n Adjusted Mutual Score: \\n\" + str(adjusted_mutual_info_score))\n",
    "    print(\"\\n\\n\" + '-'*40 + \"\\n\\n\")\n"
   ]
  },
  {
   "cell_type": "code",
   "execution_count": 15,
   "metadata": {},
   "outputs": [
    {
     "name": "stdout",
     "output_type": "stream",
     "text": [
      "Trunacted SVD Metrics for r = 1\n",
      "\n",
      " Homogeneity: \n",
      "0.0003003030178761853\n",
      "\n",
      " Completness: \n",
      "0.0003047688479979988\n",
      "\n",
      " V-Measure: \n",
      "0.0003025194525487269\n",
      "\n",
      " Adjusted Rand Score: \n",
      "0.00033904080274629444\n",
      "\n",
      " Adjusted Mutual Score: \n",
      "0.00021032082455310603\n",
      "\n",
      "\n",
      "----------------------------------------\n",
      "\n",
      "\n",
      "Trunacted SVD Metrics for r = 2\n",
      "\n",
      " Homogeneity: \n",
      "0.6014340442975874\n",
      "\n",
      " Completness: \n",
      "0.6019339649761768\n",
      "\n",
      " V-Measure: \n",
      "0.6016839007947146\n",
      "\n",
      " Adjusted Rand Score: \n",
      "0.7053750775537572\n",
      "\n",
      " Adjusted Mutual Score: \n",
      "0.6016474196828525\n",
      "\n",
      "\n",
      "----------------------------------------\n",
      "\n",
      "\n",
      "Trunacted SVD Metrics for r = 3\n",
      "\n",
      " Homogeneity: \n",
      "0.4057445276826228\n",
      "\n",
      " Completness: \n",
      "0.4426353531763369\n",
      "\n",
      " V-Measure: \n",
      "0.4233878628246751\n",
      "\n",
      " Adjusted Rand Score: \n",
      "0.4029791604137227\n",
      "\n",
      " Adjusted Mutual Score: \n",
      "0.423332776345533\n",
      "\n",
      "\n",
      "----------------------------------------\n",
      "\n",
      "\n",
      "Trunacted SVD Metrics for r = 5\n",
      "\n",
      " Homogeneity: \n",
      "0.22169446004255983\n",
      "\n",
      " Completness: \n",
      "0.30996400619493775\n",
      "\n",
      " V-Measure: \n",
      "0.25850167861455114\n",
      "\n",
      " Adjusted Rand Score: \n",
      "0.14515583921549685\n",
      "\n",
      " Adjusted Mutual Score: \n",
      "0.2584225106942839\n",
      "\n",
      "\n",
      "----------------------------------------\n",
      "\n",
      "\n",
      "Trunacted SVD Metrics for r = 10\n",
      "\n",
      " Homogeneity: \n",
      "0.23391481037641562\n",
      "\n",
      " Completness: \n",
      "0.32068405497161595\n",
      "\n",
      " V-Measure: \n",
      "0.27051173233956144\n",
      "\n",
      " Adjusted Rand Score: \n",
      "0.15699331100274733\n",
      "\n",
      " Adjusted Mutual Score: \n",
      "0.27043448700341816\n",
      "\n",
      "\n",
      "----------------------------------------\n",
      "\n",
      "\n",
      "Trunacted SVD Metrics for r = 20\n",
      "\n",
      " Homogeneity: \n",
      "0.2355138637481297\n",
      "\n",
      " Completness: \n",
      "0.3218879317819485\n",
      "\n",
      " V-Measure: \n",
      "0.27200870580536307\n",
      "\n",
      " Adjusted Rand Score: \n",
      "0.15880891672736303\n",
      "\n",
      " Adjusted Mutual Score: \n",
      "0.27193171881917727\n",
      "\n",
      "\n",
      "----------------------------------------\n",
      "\n",
      "\n",
      "Trunacted SVD Metrics for r = 50\n",
      "\n",
      " Homogeneity: \n",
      "0.24180576986673857\n",
      "\n",
      " Completness: \n",
      "0.32589962206971534\n",
      "\n",
      " V-Measure: \n",
      "0.27762431054263315\n",
      "\n",
      " Adjusted Rand Score: \n",
      "0.16700447634973561\n",
      "\n",
      " Adjusted Mutual Score: \n",
      "0.277548369717604\n",
      "\n",
      "\n",
      "----------------------------------------\n",
      "\n",
      "\n",
      "Trunacted SVD Metrics for r = 100\n",
      "\n",
      " Homogeneity: \n",
      "0.2451911216256125\n",
      "\n",
      " Completness: \n",
      "0.3291769195954707\n",
      "\n",
      " V-Measure: \n",
      "0.28104369441338917\n",
      "\n",
      " Adjusted Rand Score: \n",
      "0.16992162854634318\n",
      "\n",
      " Adjusted Mutual Score: \n",
      "0.2809682387214167\n",
      "\n",
      "\n",
      "----------------------------------------\n",
      "\n",
      "\n",
      "Trunacted SVD Metrics for r = 300\n",
      "\n",
      " Homogeneity: \n",
      "0.24069310509626352\n",
      "\n",
      " Completness: \n",
      "0.3257881564591862\n",
      "\n",
      " V-Measure: \n",
      "0.27684927394221753\n",
      "\n",
      " Adjusted Rand Score: \n",
      "0.16473016696477294\n",
      "\n",
      " Adjusted Mutual Score: \n",
      "0.2767731132347813\n",
      "\n",
      "\n",
      "----------------------------------------\n",
      "\n",
      "\n"
     ]
    }
   ],
   "source": [
    "#########\n",
    "## SVD ##\n",
    "#########\n",
    "# Fit/Transform initial SVD Matrix (max value of r = 300)\n",
    "p5_truncated_SVD = TruncatedSVD(n_components=300,random_state=0).fit_transform(p1_tfidf)\n",
    "\n",
    "# This loop takes the above fitted&transformed (r=300) 'p5_truncated_SVD' matrix and slices the returned array for different values of 'r'\n",
    "# E.G: p5_truncated_SVD[:,0:100] will only consider the first 100 'r' features (out of 300)\n",
    "# This prevents us from fit_trasnforming 9 TruncatedSVD()s\n",
    "for r_values in p5_r_values:\n",
    "    p5_SVD_kmeans_prediction = KMeans(n_clusters=2, n_init=30, max_iter=1000, random_state=0).fit_predict(p5_truncated_SVD[:,0:r_values])\n",
    "    print(\"Trunacted SVD Metrics for r = \" + str(r_values))\n",
    "    print_5_measure_stats(data_true_class,p5_SVD_kmeans_prediction)"
   ]
  },
  {
   "cell_type": "code",
   "execution_count": 16,
   "metadata": {},
   "outputs": [
    {
     "name": "stdout",
     "output_type": "stream",
     "text": [
      "Trunacted SVD Metrics for r = 1\n",
      "\n",
      " Homogeneity: \n",
      "0.0003003030178761853\n",
      "\n",
      " Completness: \n",
      "0.0003047688479979988\n",
      "\n",
      " V-Measure: \n",
      "0.0003025194525487269\n",
      "\n",
      " Adjusted Rand Score: \n",
      "0.00033904080274629444\n",
      "\n",
      " Adjusted Mutual Score: \n",
      "0.00021032082455310603\n",
      "\n",
      "\n",
      "----------------------------------------\n",
      "\n",
      "\n",
      "Trunacted SVD Metrics for r = 2\n",
      "\n",
      " Homogeneity: \n",
      "0.6014340442975874\n",
      "\n",
      " Completness: \n",
      "0.6019339649761768\n",
      "\n",
      " V-Measure: \n",
      "0.6016839007947146\n",
      "\n",
      " Adjusted Rand Score: \n",
      "0.7053750775537572\n",
      "\n",
      " Adjusted Mutual Score: \n",
      "0.6016474196828525\n",
      "\n",
      "\n",
      "----------------------------------------\n",
      "\n",
      "\n",
      "Trunacted SVD Metrics for r = 3\n",
      "\n",
      " Homogeneity: \n",
      "0.4057445276826228\n",
      "\n",
      " Completness: \n",
      "0.4426353531763369\n",
      "\n",
      " V-Measure: \n",
      "0.4233878628246751\n",
      "\n",
      " Adjusted Rand Score: \n",
      "0.4029791604137227\n",
      "\n",
      " Adjusted Mutual Score: \n",
      "0.423332776345533\n",
      "\n",
      "\n",
      "----------------------------------------\n",
      "\n",
      "\n",
      "Trunacted SVD Metrics for r = 5\n",
      "\n",
      " Homogeneity: \n",
      "0.22169446004255983\n",
      "\n",
      " Completness: \n",
      "0.30996400619493775\n",
      "\n",
      " V-Measure: \n",
      "0.25850167861455114\n",
      "\n",
      " Adjusted Rand Score: \n",
      "0.14515583921549685\n",
      "\n",
      " Adjusted Mutual Score: \n",
      "0.2584225106942839\n",
      "\n",
      "\n",
      "----------------------------------------\n",
      "\n",
      "\n",
      "Trunacted SVD Metrics for r = 10\n",
      "\n",
      " Homogeneity: \n",
      "0.23391481037641562\n",
      "\n",
      " Completness: \n",
      "0.32068405497161595\n",
      "\n",
      " V-Measure: \n",
      "0.27051173233956144\n",
      "\n",
      " Adjusted Rand Score: \n",
      "0.15699331100274733\n",
      "\n",
      " Adjusted Mutual Score: \n",
      "0.27043448700341816\n",
      "\n",
      "\n",
      "----------------------------------------\n",
      "\n",
      "\n",
      "Trunacted SVD Metrics for r = 20\n",
      "\n",
      " Homogeneity: \n",
      "0.2355138637481297\n",
      "\n",
      " Completness: \n",
      "0.3218879317819485\n",
      "\n",
      " V-Measure: \n",
      "0.27200870580536307\n",
      "\n",
      " Adjusted Rand Score: \n",
      "0.15880891672736303\n",
      "\n",
      " Adjusted Mutual Score: \n",
      "0.27193171881917727\n",
      "\n",
      "\n",
      "----------------------------------------\n",
      "\n",
      "\n",
      "Trunacted SVD Metrics for r = 50\n",
      "\n",
      " Homogeneity: \n",
      "0.24180576986673857\n",
      "\n",
      " Completness: \n",
      "0.32589962206971534\n",
      "\n",
      " V-Measure: \n",
      "0.27762431054263315\n",
      "\n",
      " Adjusted Rand Score: \n",
      "0.16700447634973561\n",
      "\n",
      " Adjusted Mutual Score: \n",
      "0.277548369717604\n",
      "\n",
      "\n",
      "----------------------------------------\n",
      "\n",
      "\n",
      "Trunacted SVD Metrics for r = 100\n",
      "\n",
      " Homogeneity: \n",
      "0.2451911216256125\n",
      "\n",
      " Completness: \n",
      "0.3291769195954707\n",
      "\n",
      " V-Measure: \n",
      "0.28104369441338917\n",
      "\n",
      " Adjusted Rand Score: \n",
      "0.16992162854634318\n",
      "\n",
      " Adjusted Mutual Score: \n",
      "0.2809682387214167\n",
      "\n",
      "\n",
      "----------------------------------------\n",
      "\n",
      "\n",
      "Trunacted SVD Metrics for r = 300\n",
      "\n",
      " Homogeneity: \n",
      "0.24069310509626352\n",
      "\n",
      " Completness: \n",
      "0.3257881564591862\n",
      "\n",
      " V-Measure: \n",
      "0.27684927394221753\n",
      "\n",
      " Adjusted Rand Score: \n",
      "0.16473016696477294\n",
      "\n",
      " Adjusted Mutual Score: \n",
      "0.2767731132347813\n",
      "\n",
      "\n",
      "----------------------------------------\n",
      "\n",
      "\n"
     ]
    }
   ],
   "source": [
    "#########\n",
    "## NMF ##\n",
    "#########\n",
    "# Loop through \n",
    "p5_NMF = NMF(n_components=300, random_state=0).fit_transform(p1_tfidf)\n",
    "\n",
    "# Onle include 'r' feaures in the matrix; use python list slicing\n",
    "for r_values in p5_r_values:\n",
    "    p5_SVD_kmeans_prediction = KMeans(n_clusters=2, n_init=30, max_iter=1000, random_state=0).fit_predict(p5_truncated_SVD[:,0:r_values])\n",
    "    print(\"Trunacted SVD Metrics for r = \" + str(r_values))\n",
    "    print_5_measure_stats(data_true_class,p5_SVD_kmeans_prediction)"
   ]
  },
  {
   "cell_type": "markdown",
   "metadata": {},
   "source": [
    "## Problem 6"
   ]
  },
  {
   "cell_type": "markdown",
   "metadata": {},
   "source": [
    "Answer in Report"
   ]
  },
  {
   "cell_type": "markdown",
   "metadata": {},
   "source": [
    "## Problem 7"
   ]
  },
  {
   "cell_type": "code",
   "execution_count": 17,
   "metadata": {},
   "outputs": [],
   "source": [
    "###########################################\n",
    "## Visualize Optimal Clustering: SVD/NMF ##\n",
    "###########################################\n",
    "# Optimal SVD value r=2\n",
    "p7_optimal_SVD = TruncatedSVD(n_components=2,random_state=0).fit_transform(p1_tfidf)\n",
    "p7_optimal_SVD_kmeans = KMeans(n_clusters=2, n_init=30, max_iter=1000, random_state=0).fit_predict(p7_optimal_SVD)\n",
    "\n",
    "# Optimal NMF Value r=2\n",
    "p7_optimal_NMF = NMF(n_components=2, random_state=0).fit_transform(p1_tfidf)\n",
    "p7_optimal_NMF_kmeans = KMeans(n_clusters=2, n_init=30, max_iter=1000, random_state=0).fit_predict(p7_optimal_NMF)\n",
    "# Create Scatter Plot Visualization\n",
    "\n",
    "def Scatterplot(reduced_matrix,k_means_matrix):\n",
    "    \n",
    "    # Boolean Mask SVD/NMF Matrix with K-means predicted 0:Computer class\n",
    "    # SVD/NMF Matrix only has 2 features;\n",
    "    feature1_class0 = reduced_matrix[k_means_matrix == 0][:, 0]\n",
    "    feature2_class0 = reduced_matrix[k_means_matrix == 0][:, 1]\n",
    "    plt.xlabel(\"SVD/NMF Feature 1\")\n",
    "    plt.ylabel(\"SVD/NMF Feature 2\")\n",
    "    plt.plot(feature1_class0, feature2_class0, 'c+')\n",
    "    \n",
    "    # Boolean Mask SVD/NMF Matrix with K-means predicted 1:Recreation\n",
    "    feature1_class1 = reduced_matrix[k_means_matrix == 1][:, 0]\n",
    "    feature2_class1 = reduced_matrix[k_means_matrix == 1][:, 1]\n",
    "    plt.xlabel(\"SVD/NMF Feature 1\")\n",
    "    plt.ylabel(\"SVD/NMF Feature 2\")\n",
    "    plt.plot(feature1_class1, feature2_class1, 'r+')"
   ]
  },
  {
   "cell_type": "code",
   "execution_count": 18,
   "metadata": {},
   "outputs": [
    {
     "data": {
      "image/png": "[encoded data removed]",
      "text/plain": [
       "<Figure size 432x288 with 1 Axes>"
      ]
     },
     "metadata": {
      "needs_background": "light"
     },
     "output_type": "display_data"
    }
   ],
   "source": [
    "# Plot SVD Values\n",
    "Scatterplot(p7_optimal_SVD, p7_optimal_SVD_kmeans)"
   ]
  },
  {
   "cell_type": "code",
   "execution_count": 19,
   "metadata": {},
   "outputs": [
    {
     "data": {
      "image/png": "[encoded data removed]",
      "text/plain": [
       "<Figure size 432x288 with 1 Axes>"
      ]
     },
     "metadata": {
      "needs_background": "light"
     },
     "output_type": "display_data"
    }
   ],
   "source": [
    "# Plot NMF Values\n",
    "Scatterplot(p7_optimal_NMF, p7_optimal_NMF_kmeans)"
   ]
  },
  {
   "cell_type": "markdown",
   "metadata": {},
   "source": [
    "## Problem 8 & 10"
   ]
  },
  {
   "cell_type": "code",
   "execution_count": 20,
   "metadata": {},
   "outputs": [],
   "source": [
    "##############################\n",
    "## SVD with/without scaling ##\n",
    "##############################\n",
    "# Use Preprocessing Library to remove mean/stdev from SVD matrix (2 feaures)\n",
    "# Scaling must NOT CENTER data (with_mean=TRUE), may result in negative values\n",
    "p8_scaled_SVD = preprocessing.scale(p7_optimal_SVD, with_mean=False, with_std=True)\n",
    "p8_scaled_SVD_Kmeans = KMeans(n_clusters=2, n_init=30, max_iter=1000, random_state=0).fit_predict(p8_scaled_SVD)\n",
    "p8_not_scaled_SVD = p7_optimal_SVD\n",
    "p8_not_scaled_SVD_Kmeans = KMeans(n_clusters=2, n_init=30, max_iter=1000, random_state=0).fit_predict(p7_optimal_SVD)"
   ]
  },
  {
   "cell_type": "code",
   "execution_count": 21,
   "metadata": {},
   "outputs": [
    {
     "name": "stdout",
     "output_type": "stream",
     "text": [
      "SVD Statisitcs: NO SCALING\n",
      "Contingency Matrix: \n",
      "[[3676  227]\n",
      " [ 418 3561]]\n",
      "\n",
      " Homogeneity: \n",
      "0.5957055666523775\n",
      "\n",
      " Completness: \n",
      "0.5963140980131192\n",
      "\n",
      " V-Measure: \n",
      "0.5960096770037602\n",
      "\n",
      " Adjusted Rand Score: \n",
      "0.6994197092349987\n",
      "\n",
      " Adjusted Mutual Score: \n",
      "0.595972672680135\n",
      "\n",
      "\n",
      "----------------------------------------\n",
      "\n",
      "\n"
     ]
    },
    {
     "data": {
      "image/png": "[encoded data removed]",
      "text/plain": [
       "<Figure size 432x288 with 1 Axes>"
      ]
     },
     "metadata": {
      "needs_background": "light"
     },
     "output_type": "display_data"
    }
   ],
   "source": [
    "# Evaluate Statistics\n",
    "print(\"SVD Statisitcs: NO SCALING\")\n",
    "print(\"Contingency Matrix: \\n\" + str(contingency_matrix(data_true_class, p8_not_scaled_SVD_Kmeans)))\n",
    "print_5_measure_stats(data_true_class,p8_not_scaled_SVD_Kmeans)\n",
    "Scatterplot(p8_not_scaled_SVD, p8_not_scaled_SVD_Kmeans)"
   ]
  },
  {
   "cell_type": "code",
   "execution_count": 22,
   "metadata": {},
   "outputs": [
    {
     "name": "stdout",
     "output_type": "stream",
     "text": [
      "SVD Statisitcs: SCALING\n",
      "Contingency Matrix: \n",
      "[[2194 1709]\n",
      " [ 242 3737]]\n",
      "\n",
      " Homogeneity: \n",
      "0.23551196121234316\n",
      "\n",
      " Completness: \n",
      "0.2639843545484154\n",
      "\n",
      " V-Measure: \n",
      "0.2489366632239579\n",
      "\n",
      " Adjusted Rand Score: \n",
      "0.254881611950386\n",
      "\n",
      " Adjusted Mutual Score: \n",
      "0.24886398016025116\n",
      "\n",
      "\n",
      "----------------------------------------\n",
      "\n",
      "\n"
     ]
    },
    {
     "data": {
      "image/png": "[encoded data removed]",
      "text/plain": [
       "<Figure size 432x288 with 1 Axes>"
      ]
     },
     "metadata": {
      "needs_background": "light"
     },
     "output_type": "display_data"
    }
   ],
   "source": [
    "print(\"SVD Statisitcs: SCALING\")\n",
    "print(\"Contingency Matrix: \\n\" + str(contingency_matrix(data_true_class, p8_scaled_SVD_Kmeans)))\n",
    "print_5_measure_stats(data_true_class,p8_scaled_SVD_Kmeans)\n",
    "Scatterplot(p8_scaled_SVD, p8_scaled_SVD_Kmeans)"
   ]
  },
  {
   "cell_type": "code",
   "execution_count": 23,
   "metadata": {},
   "outputs": [],
   "source": [
    "######################################\n",
    "## NMF: NO LOG with/without scaling ##\n",
    "######################################\n",
    "p8_scaled_NMF = preprocessing.scale(p7_optimal_NMF, with_mean=False, with_std=True)\n",
    "p8_scaled_NMF_Kmeans = KMeans(n_clusters=2, n_init=30, max_iter=1000, random_state=0).fit_predict(p8_scaled_NMF)\n",
    "p8_not_scaled_NMF = p7_optimal_NMF\n",
    "p8_not_scaled_NMF_Kmeans = KMeans(n_clusters=2, n_init=30, max_iter=1000, random_state=0).fit_predict(p8_not_scaled_NMF)"
   ]
  },
  {
   "cell_type": "code",
   "execution_count": 20,
   "metadata": {},
   "outputs": [
    {
     "name": "stdout",
     "output_type": "stream",
     "text": [
      "NMF Statisitcs: NO SCALING-NO LOG\n",
      "Contingency Matrix: \n",
      "[[  51 2292]\n",
      " [1872  517]]\n",
      "\n",
      " Homogeneity: \n",
      "0.6914586927804408\n",
      "\n",
      " Completness: \n",
      "0.6914123596005334\n",
      "\n",
      " V-Measure: \n",
      "0.6914355254142891\n",
      "\n",
      " Adjusted Rand Score: \n",
      "0.7907472701311208\n",
      "\n",
      " Adjusted Mutual Score: \n",
      "0.6913884640261887\n",
      "\n",
      "\n",
      "----------------------------------------\n",
      "\n",
      "\n"
     ]
    },
    {
     "data": {
      "image/png": "[encoded data removed]",
      "text/plain": [
       "<Figure size 432x288 with 1 Axes>"
      ]
     },
     "metadata": {
      "needs_background": "light"
     },
     "output_type": "display_data"
    }
   ],
   "source": [
    "# Evaluate Statistics\n",
    "print(\"NMF Statisitcs: NO SCALING-NO LOG\")\n",
    "print(\"Contingency Matrix: \\n\" + str(contingency_matrix(data_true_class, p8_not_scaled_SVD_Kmeans)))\n",
    "print_5_measure_stats(data_true_class,p8_not_scaled_NMF_Kmeans)\n",
    "Scatterplot(p8_not_scaled_NMF, p8_not_scaled_NMF_Kmeans)"
   ]
  },
  {
   "cell_type": "code",
   "execution_count": 27,
   "metadata": {},
   "outputs": [
    {
     "name": "stdout",
     "output_type": "stream",
     "text": [
      "NMF Statisitcs: SCALING-NO LOG\n",
      "Contingency Matrix: \n",
      "[[ 364 3539]\n",
      " [3872  107]]\n",
      "\n",
      " Homogeneity: \n",
      "0.684387226603582\n",
      "\n",
      " Completness: \n",
      "0.6871211383812941\n",
      "\n",
      " V-Measure: \n",
      "0.6857514576553903\n",
      "\n",
      " Adjusted Rand Score: \n",
      "0.7752292094559813\n",
      "\n",
      " Adjusted Mutual Score: \n",
      "0.6857226307192915\n",
      "\n",
      "\n",
      "----------------------------------------\n",
      "\n",
      "\n"
     ]
    },
    {
     "data": {
      "image/png": "[encoded data removed]",
      "text/plain": [
       "<Figure size 432x288 with 1 Axes>"
      ]
     },
     "metadata": {
      "needs_background": "light"
     },
     "output_type": "display_data"
    }
   ],
   "source": [
    "print(\"NMF Statisitcs: SCALING-NO LOG\")\n",
    "print(\"Contingency Matrix: \\n\" + str(contingency_matrix(data_true_class, p8_scaled_NMF_Kmeans)))\n",
    "print_5_measure_stats(data_true_class,p8_scaled_NMF_Kmeans)\n",
    "Scatterplot(p8_scaled_NMF, p8_scaled_NMF_Kmeans)"
   ]
  },
  {
   "cell_type": "code",
   "execution_count": 45,
   "metadata": {},
   "outputs": [],
   "source": [
    "###################################\n",
    "## NMF: LOG with/without scaling ##\n",
    "###################################\n",
    "# Define arbitrary value of epsilon \n",
    "epsilon = 0.0001\n",
    "\n",
    "# From Discussion notes:\n",
    "def log_function(x, ep=0.0001, base=np.exp(1)):\n",
    "    return np.sign(x) * (np.log(np.abs(x)+ep)/np.log(base) - np.log(ep)/np.log(base))\n",
    "\n",
    "\n",
    "\n",
    "# Take log() of NMF matrices\n",
    "p8_log_not_scaled_NMF = log_function(p8_not_scaled_NMF, epsilon, base=10)\n",
    "p8_log_scaled_NMF = log_function(p8_scaled_NMF, epsilon, base=10)\n"
   ]
  },
  {
   "cell_type": "code",
   "execution_count": 46,
   "metadata": {},
   "outputs": [],
   "source": [
    "# Predict based on log(x+epsilon) function\n",
    "p8_log_scaled_Kmeans = KMeans(n_clusters=2, n_init=30, max_iter=1000, random_state=0).fit_predict(p8_log_scaled_NMF)\n",
    "p8_log_not_scaled_Kmeans= KMeans(n_clusters=2, n_init=30, max_iter=1000, random_state=0).fit_predict(p8_log_not_scaled_NMF)"
   ]
  },
  {
   "cell_type": "code",
   "execution_count": 47,
   "metadata": {},
   "outputs": [
    {
     "name": "stdout",
     "output_type": "stream",
     "text": [
      "NMF Statisitcs: NO SCALING - LOG + EPSILON\n",
      "Contingency Matrix: \n",
      "[[3594  309]\n",
      " [ 158 3821]]\n",
      "\n",
      " Homogeneity: \n",
      "0.22881750283889787\n",
      "\n",
      " Completness: \n",
      "0.3195781202546837\n",
      "\n",
      " V-Measure: \n",
      "0.26668727597100905\n",
      "\n",
      " Adjusted Rand Score: \n",
      "0.14768135966795615\n",
      "\n",
      " Adjusted Mutual Score: \n",
      "0.2666090172878646\n",
      "\n",
      "\n",
      "----------------------------------------\n",
      "\n",
      "\n"
     ]
    },
    {
     "data": {
      "image/png": "[encoded data removed]",
      "text/plain": [
       "<Figure size 432x288 with 1 Axes>"
      ]
     },
     "metadata": {
      "needs_background": "light"
     },
     "output_type": "display_data"
    }
   ],
   "source": [
    "# Evaluate Statistics\n",
    "print(\"NMF Statisitcs: NO SCALING - LOG + EPSILON\")\n",
    "print(\"Contingency Matrix: \\n\" + str(contingency_matrix(data_true_class, p8_not_scaled_NMF_Kmeans)))\n",
    "print_5_measure_stats(data_true_class,p8_log_not_scaled_Kmeans)\n",
    "Scatterplot(p8_log_not_scaled_NMF, p8_log_not_scaled_Kmeans)"
   ]
  },
  {
   "cell_type": "code",
   "execution_count": 48,
   "metadata": {},
   "outputs": [
    {
     "name": "stdout",
     "output_type": "stream",
     "text": [
      "NMF Statisitcs: SCALING - LOG + EPSILON\n",
      "Contingency Matrix: \n",
      "[[ 364 3539]\n",
      " [3872  107]]\n",
      "\n",
      " Homogeneity: \n",
      "0.17928156801202375\n",
      "\n",
      " Completness: \n",
      "0.2827731334791513\n",
      "\n",
      " V-Measure: \n",
      "0.2194372683502877\n",
      "\n",
      " Adjusted Rand Score: \n",
      "0.09604512148749679\n",
      "\n",
      " Adjusted Mutual Score: \n",
      "0.21934978081249248\n",
      "\n",
      "\n",
      "----------------------------------------\n",
      "\n",
      "\n"
     ]
    },
    {
     "data": {
      "image/png": "[encoded data removed]",
      "text/plain": [
       "<Figure size 432x288 with 1 Axes>"
      ]
     },
     "metadata": {
      "needs_background": "light"
     },
     "output_type": "display_data"
    }
   ],
   "source": [
    "# Evaluate Statistics\n",
    "print(\"NMF Statisitcs: SCALING - LOG + EPSILON\")\n",
    "print(\"Contingency Matrix: \\n\" + str(contingency_matrix(data_true_class, p8_scaled_NMF_Kmeans)))\n",
    "print_5_measure_stats(data_true_class,p8_log_scaled_Kmeans)\n",
    "Scatterplot(p8_log_not_scaled_NMF, p8_log_scaled_Kmeans)"
   ]
  },
  {
   "cell_type": "markdown",
   "metadata": {},
   "source": [
    "## Problem 9"
   ]
  },
  {
   "cell_type": "markdown",
   "metadata": {},
   "source": [
    "Answer in Report."
   ]
  }
 ],
 "metadata": {
  "kernelspec": {
   "display_name": "Python 3",
   "language": "python",
   "name": "python3"
  },
  "language_info": {
   "codemirror_mode": {
    "name": "ipython",
    "version": 3
   },
   "file_extension": ".py",
   "mimetype": "text/x-python",
   "name": "python",
   "nbconvert_exporter": "python",
   "pygments_lexer": "ipython3",
   "version": "3.7.4"
  }
 },
 "nbformat": 4,
 "nbformat_minor": 2
}
