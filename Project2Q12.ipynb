{
 "cells": [
  {
   "cell_type": "code",
   "execution_count": 17,
   "metadata": {},
   "outputs": [
    {
     "name": "stdout",
     "output_type": "stream",
     "text": [
      "uint8\n",
      "(675, 1200, 3)\n",
      "(810000, 3)\n"
     ]
    },
    {
     "data": {
      "text/plain": [
       "<Figure size 1080x576 with 0 Axes>"
      ]
     },
     "metadata": {},
     "output_type": "display_data"
    }
   ],
   "source": [
    "import numpy as np\n",
    "import matplotlib.pyplot as plt\n",
    "\n",
    "\n",
    "from sklearn.cluster import KMeans\n",
    "import time\n",
    "from sklearn import metrics\n",
    "from PIL import Image\n",
    "from numpy import array\n",
    "from sklearn import cluster\n",
    "\n",
    "\n",
    "image = plt.imread(r\"C:\\Users\\Ryan\\Desktop\\ECE 219\\cele_img2.jpg\")\n",
    "print(image.dtype)\n",
    "#image = int(image.dtype)\n",
    "#image = np.array(image,dtype=int)\n",
    "print(image.shape)\n",
    "plt.figure(figsize = (15,8))\n",
    "#plt.imshow(image)\n",
    "x, y, z = image.shape\n",
    "\n",
    "reshaped_image = image.reshape(x*y, z)\n",
    "print(reshaped_image.shape)"
   ]
  },
  {
   "cell_type": "code",
   "execution_count": 18,
   "metadata": {},
   "outputs": [
    {
     "name": "stdout",
     "output_type": "stream",
     "text": [
      "Clustering sparse data with KMeans(algorithm='auto', copy_x=True, init='k-means++', max_iter=1000,\n",
      "       n_clusters=3, n_init=30, n_jobs=None, precompute_distances='auto',\n",
      "       random_state=0, tol=0.0001, verbose=0)\n",
      "done in 17.810s\n",
      "[[  1.23180967 101.26818313  99.88788832]\n",
      " [226.8044041  197.59823836 184.57515729]\n",
      " [ 13.1948702   39.31590445  40.51688423]]\n",
      "[2 2 2 ... 2 2 2]\n"
     ]
    },
    {
     "data": {
      "text/plain": [
       "<matplotlib.image.AxesImage at 0x21d802e8048>"
      ]
     },
     "execution_count": 18,
     "metadata": {},
     "output_type": "execute_result"
    },
    {
     "data": {
      "image/png": "[encoded data removed]",
      "text/plain": [
       "<Figure size 1080x576 with 1 Axes>"
      ]
     },
     "metadata": {
      "needs_background": "light"
     },
     "output_type": "display_data"
    }
   ],
   "source": [
    "from sklearn import cluster\n",
    "from skimage import data\n",
    "import numpy as np\n",
    "import matplotlib.pyplot as plt\n",
    "\n",
    "\n",
    "km = cluster.KMeans(n_clusters=3, random_state=0, max_iter=1000, n_init=30)\n",
    "print(\"Clustering sparse data with %s\" % km)\n",
    "t0 = time.time()\n",
    "km.fit(reshaped_image)\n",
    "print(\"done in %0.3fs\" % (time.time() - t0))\n",
    "\n",
    "cluster_centers = km.cluster_centers_\n",
    "cluster_labels = km.labels_\n",
    "print(cluster_centers)\n",
    "print(cluster_labels)\n",
    "plt.figure(figsize = (15,8))\n",
    "\n",
    "placeholder = cluster_centers[cluster_labels].reshape(x, y, z)\n",
    "re_imaged = placeholder = placeholder.astype('int64') \n",
    "\n",
    "for in_row in range(675):\n",
    "    for in_col in range(1200):\n",
    "        if re_imaged[in_row][in_col][0] == 13:\n",
    "            re_imaged[in_row][in_col] = 255\n",
    "            re_imaged[in_row][in_col][1] = 0\n",
    "            re_imaged[in_row][in_col][2] = 0\n",
    "        elif re_imaged[in_row][in_col][0] == 1:\n",
    "            re_imaged[in_row][in_col][0] = 0\n",
    "            re_imaged[in_row][in_col][1] = 255\n",
    "            re_imaged[in_row][in_col][2] = 0\n",
    "        elif re_imaged[in_row][in_col][0] == 226:\n",
    "            re_imaged[in_row][in_col][0] = 0\n",
    "            re_imaged[in_row][in_col][1] = 0\n",
    "            re_imaged[in_row][in_col][2] = 255\n",
    "plt.imshow(re_imaged)\n",
    "\n"
   ]
  },
  {
   "cell_type": "code",
   "execution_count": null,
   "metadata": {},
   "outputs": [],
   "source": []
  }
 ],
 "metadata": {
  "kernelspec": {
   "display_name": "Python 3",
   "language": "python",
   "name": "python3"
  },
  "language_info": {
   "codemirror_mode": {
    "name": "ipython",
    "version": 3
   },
   "file_extension": ".py",
   "mimetype": "text/x-python",
   "name": "python",
   "nbconvert_exporter": "python",
   "pygments_lexer": "ipython3",
   "version": "3.7.4"
  }
 },
 "nbformat": 4,
 "nbformat_minor": 2
}
